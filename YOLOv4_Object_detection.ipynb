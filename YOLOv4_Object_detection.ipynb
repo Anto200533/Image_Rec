{
  "nbformat": 4,
  "nbformat_minor": 0,
  "metadata": {
    "colab": {
      "provenance": [],
      "include_colab_link": true
    },
    "kernelspec": {
      "name": "python3",
      "display_name": "Python 3"
    },
    "language_info": {
      "name": "python"
    }
  },
  "cells": [
    {
      "cell_type": "markdown",
      "metadata": {
        "id": "view-in-github",
        "colab_type": "text"
      },
      "source": [
        "<a href=\"https://colab.research.google.com/github/Anto200533/Image_Rec/blob/james/YOLOv4_Object_detection.ipynb\" target=\"_parent\"><img src=\"https://colab.research.google.com/assets/colab-badge.svg\" alt=\"Open In Colab\"/></a>"
      ]
    },
    {
      "cell_type": "markdown",
      "source": [
        "YOLOv4 Object Detection "
      ],
      "metadata": {
        "id": "VKyDlXI_4Y4X"
      }
    },
    {
      "cell_type": "code",
      "source": [],
      "metadata": {
        "id": "2Kff4JhamrJx"
      },
      "execution_count": null,
      "outputs": []
    },
    {
      "cell_type": "code",
      "source": [
        "from google.colab import drive\n",
        "drive.mount('/content/drive')\n",
        "!ln -s /content/gdrive/My\\ Drive/ /mydrive"
      ],
      "metadata": {
        "id": "l0B75GYhnIdL"
      },
      "execution_count": null,
      "outputs": []
    }
  ]
}